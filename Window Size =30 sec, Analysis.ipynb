{
 "cells": [
  {
   "cell_type": "code",
   "execution_count": 1,
   "metadata": {},
   "outputs": [
    {
     "name": "stdout",
     "output_type": "stream",
     "text": [
      "CPU times: user 1.19 s, sys: 260 ms, total: 1.45 s\n",
      "Wall time: 1.36 s\n"
     ]
    }
   ],
   "source": [
    "%%time\n",
    "import pandas as pd\n",
    "import numpy as np\n",
    "from sklearn.ensemble import ExtraTreesClassifier\n",
    "from sklearn.metrics import classification_report\n",
    "from sklearn.model_selection import train_test_split\n",
    "from sklearn.ensemble import RandomForestClassifier\n",
    "from sklearn.linear_model import LogisticRegression"
   ]
  },
  {
   "cell_type": "code",
   "execution_count": null,
   "metadata": {},
   "outputs": [],
   "source": [
    "%%time\n",
    "train = pd.read_csv(\"30_sec_train.csv\")\n",
    "test = pd.read_csv(\"30_sec_test.csv\")"
   ]
  },
  {
   "cell_type": "code",
   "execution_count": 3,
   "metadata": {},
   "outputs": [
    {
     "name": "stdout",
     "output_type": "stream",
     "text": [
      "(1260000, 11)\n",
      "(30210603, 11)\n"
     ]
    }
   ],
   "source": [
    "print(train.shape)\n",
    "print(test.shape)"
   ]
  },
  {
   "cell_type": "code",
   "execution_count": 8,
   "metadata": {},
   "outputs": [
    {
     "data": {
      "text/plain": [
       "0          14786800\n",
       "1          14786801\n",
       "2          14786802\n",
       "3          14786803\n",
       "4          14786804\n",
       "             ...   \n",
       "1259995    26274496\n",
       "1259996    26274497\n",
       "1259997    26274498\n",
       "1259998    26274499\n",
       "1259999    26274500\n",
       "Name: Unnamed: 0, Length: 1260000, dtype: int64"
      ]
     },
     "execution_count": 8,
     "metadata": {},
     "output_type": "execute_result"
    }
   ],
   "source": [
    "train['Unnamed: 0']"
   ]
  },
  {
   "cell_type": "code",
   "execution_count": 7,
   "metadata": {},
   "outputs": [
    {
     "data": {
      "text/plain": [
       "['Unnamed: 0',\n",
       " 'target',\n",
       " 'subject',\n",
       " 'chest_ACC_x',\n",
       " 'chest_ACC_y',\n",
       " 'chest_ACC_z',\n",
       " 'chest_ECG',\n",
       " 'chest_EMG',\n",
       " 'chest_EDA',\n",
       " 'chest_Temp',\n",
       " 'chest_Resp']"
      ]
     },
     "execution_count": 7,
     "metadata": {},
     "output_type": "execute_result"
    }
   ],
   "source": [
    "train.columns.tolist()"
   ]
  },
  {
   "cell_type": "code",
   "execution_count": 3,
   "metadata": {},
   "outputs": [
    {
     "name": "stdout",
     "output_type": "stream",
     "text": [
      "CPU times: user 2 µs, sys: 0 ns, total: 2 µs\n",
      "Wall time: 6.68 µs\n"
     ]
    }
   ],
   "source": [
    "%%time\n",
    "\n",
    "# # df=df[df.target!=3]\n",
    "# train=train[train.target!=4]\n",
    "# test=test[test.target!=4]"
   ]
  },
  {
   "cell_type": "code",
   "execution_count": 4,
   "metadata": {},
   "outputs": [
    {
     "data": {
      "text/plain": [
       "['chest_ACC_x',\n",
       " 'chest_ACC_y',\n",
       " 'chest_ACC_z',\n",
       " 'chest_ECG',\n",
       " 'chest_EMG',\n",
       " 'chest_EDA',\n",
       " 'chest_Temp',\n",
       " 'chest_Resp']"
      ]
     },
     "execution_count": 4,
     "metadata": {},
     "output_type": "execute_result"
    }
   ],
   "source": [
    "features=train.columns.tolist()\n",
    "features = features[3:]\n",
    "features"
   ]
  },
  {
   "cell_type": "code",
   "execution_count": 5,
   "metadata": {},
   "outputs": [
    {
     "name": "stdout",
     "output_type": "stream",
     "text": [
      "<class 'pandas.core.frame.DataFrame'>\n",
      "RangeIndex: 1260000 entries, 0 to 1259999\n",
      "Data columns (total 11 columns):\n",
      "Unnamed: 0     1260000 non-null int64\n",
      "target         1260000 non-null int64\n",
      "subject        1260000 non-null int64\n",
      "chest_ACC_x    1260000 non-null float64\n",
      "chest_ACC_y    1260000 non-null float64\n",
      "chest_ACC_z    1260000 non-null float64\n",
      "chest_ECG      1260000 non-null float64\n",
      "chest_EMG      1260000 non-null float64\n",
      "chest_EDA      1260000 non-null float64\n",
      "chest_Temp     1260000 non-null float64\n",
      "chest_Resp     1260000 non-null float64\n",
      "dtypes: float64(8), int64(3)\n",
      "memory usage: 105.7 MB\n"
     ]
    }
   ],
   "source": [
    "train.info()"
   ]
  },
  {
   "cell_type": "code",
   "execution_count": 9,
   "metadata": {},
   "outputs": [
    {
     "name": "stdout",
     "output_type": "stream",
     "text": [
      "CPU times: user 53 µs, sys: 7 µs, total: 60 µs\n",
      "Wall time: 62.9 µs\n"
     ]
    }
   ],
   "source": [
    "%%time\n",
    "et = ExtraTreesClassifier(n_estimators=20, n_jobs=10, verbose=2,random_state=0)"
   ]
  },
  {
   "cell_type": "code",
   "execution_count": 11,
   "metadata": {
    "scrolled": true
   },
   "outputs": [
    {
     "name": "stderr",
     "output_type": "stream",
     "text": [
      "[Parallel(n_jobs=10)]: Using backend ThreadingBackend with 10 concurrent workers.\n"
     ]
    },
    {
     "name": "stdout",
     "output_type": "stream",
     "text": [
      "building tree 1 of 20\n",
      "building tree 2 of 20\n",
      "building tree 3 of 20building tree 4 of 20\n",
      "building tree 5 of 20\n",
      "\n",
      "building tree 6 of 20\n",
      "building tree 7 of 20\n",
      "building tree 8 of 20building tree 9 of 20\n",
      "\n",
      "building tree 10 of 20\n",
      "building tree 11 of 20\n",
      "building tree 12 of 20\n",
      "building tree 13 of 20\n",
      "building tree 14 of 20\n",
      "building tree 15 of 20building tree 16 of 20\n",
      "\n",
      "building tree 17 of 20\n",
      "building tree 18 of 20\n",
      "building tree 19 of 20\n",
      "building tree 20 of 20\n"
     ]
    },
    {
     "name": "stderr",
     "output_type": "stream",
     "text": [
      "[Parallel(n_jobs=10)]: Done  12 out of  20 | elapsed:    1.4s remaining:    0.9s\n",
      "[Parallel(n_jobs=10)]: Done  20 out of  20 | elapsed:    1.9s finished\n"
     ]
    },
    {
     "data": {
      "text/plain": [
       "ExtraTreesClassifier(bootstrap=False, class_weight=None, criterion='gini',\n",
       "                     max_depth=None, max_features='auto', max_leaf_nodes=None,\n",
       "                     min_impurity_decrease=0.0, min_impurity_split=None,\n",
       "                     min_samples_leaf=1, min_samples_split=2,\n",
       "                     min_weight_fraction_leaf=0.0, n_estimators=20, n_jobs=10,\n",
       "                     oob_score=False, random_state=0, verbose=2,\n",
       "                     warm_start=False)"
      ]
     },
     "execution_count": 11,
     "metadata": {},
     "output_type": "execute_result"
    }
   ],
   "source": [
    "et.fit(train[features],train['target'])"
   ]
  },
  {
   "cell_type": "code",
   "execution_count": 12,
   "metadata": {},
   "outputs": [
    {
     "name": "stderr",
     "output_type": "stream",
     "text": [
      "[Parallel(n_jobs=10)]: Using backend ThreadingBackend with 10 concurrent workers.\n",
      "[Parallel(n_jobs=10)]: Done  12 out of  20 | elapsed:   13.8s remaining:    9.2s\n",
      "[Parallel(n_jobs=10)]: Done  20 out of  20 | elapsed:   15.7s finished\n"
     ]
    },
    {
     "name": "stdout",
     "output_type": "stream",
     "text": [
      "CPU times: user 1min 20s, sys: 26.1 s, total: 1min 46s\n",
      "Wall time: 17.9 s\n"
     ]
    }
   ],
   "source": [
    "%%time \n",
    "y_pred=et.predict(test[features])"
   ]
  },
  {
   "cell_type": "code",
   "execution_count": 19,
   "metadata": {},
   "outputs": [
    {
     "data": {
      "text/plain": [
       "array([1, 2, 3, 4])"
      ]
     },
     "execution_count": 19,
     "metadata": {},
     "output_type": "execute_result"
    }
   ],
   "source": [
    "np.unique(y_pred)"
   ]
  },
  {
   "cell_type": "code",
   "execution_count": 20,
   "metadata": {},
   "outputs": [
    {
     "name": "stdout",
     "output_type": "stream",
     "text": [
      "              precision    recall  f1-score   support\n",
      "\n",
      "           1       0.89      0.62      0.73  12012702\n",
      "           2       0.68      0.82      0.74   6661201\n",
      "           3       0.63      0.83      0.72   3587501\n",
      "           4       0.68      0.78      0.73   7949199\n",
      "\n",
      "    accuracy                           0.73  30210603\n",
      "   macro avg       0.72      0.76      0.73  30210603\n",
      "weighted avg       0.76      0.73      0.73  30210603\n",
      "\n"
     ]
    }
   ],
   "source": [
    "print(classification_report(test['target'], y_pred))"
   ]
  },
  {
   "cell_type": "code",
   "execution_count": 21,
   "metadata": {},
   "outputs": [],
   "source": [
    "from sklearn.tree import DecisionTreeClassifier\n",
    "clf = DecisionTreeClassifier()\n",
    "\n",
    "clf = clf.fit(train[features],train['target'])\n",
    "\n",
    "\n",
    "y_pred = clf.predict(test[features])"
   ]
  },
  {
   "cell_type": "code",
   "execution_count": 22,
   "metadata": {},
   "outputs": [
    {
     "name": "stdout",
     "output_type": "stream",
     "text": [
      "              precision    recall  f1-score   support\n",
      "\n",
      "           1       0.78      0.56      0.65  12012702\n",
      "           2       0.53      0.66      0.59   6661201\n",
      "           3       0.48      0.72      0.58   3587501\n",
      "           4       0.65      0.64      0.65   7949199\n",
      "\n",
      "    accuracy                           0.63  30210603\n",
      "   macro avg       0.61      0.65      0.62  30210603\n",
      "weighted avg       0.66      0.63      0.63  30210603\n",
      "\n"
     ]
    }
   ],
   "source": [
    "print(classification_report(test['target'], y_pred))"
   ]
  },
  {
   "cell_type": "code",
   "execution_count": null,
   "metadata": {},
   "outputs": [],
   "source": []
  },
  {
   "cell_type": "code",
   "execution_count": null,
   "metadata": {},
   "outputs": [],
   "source": [
    "# from sklearn.neighbors import KNeighborsClassifier\n",
    "# classifier = KNeighborsClassifier(n_neighbors=5)\n",
    "# classifier.fit(train[feature],train['target'])\n",
    "# y_pred = classifier.predict(test[feature])"
   ]
  },
  {
   "cell_type": "code",
   "execution_count": null,
   "metadata": {},
   "outputs": [],
   "source": [
    "# print(classification_report(test['target'], y_pred))"
   ]
  },
  {
   "cell_type": "code",
   "execution_count": 3,
   "metadata": {},
   "outputs": [
    {
     "name": "stdout",
     "output_type": "stream",
     "text": [
      "Collecting xgboost\n",
      "  Downloading https://files.pythonhosted.org/packages/c1/24/5fe7237b2eca13ee0cfb100bec8c23f4e69ce9df852a64b0493d49dae4e0/xgboost-0.90-py2.py3-none-manylinux1_x86_64.whl (142.8MB)\n",
      "\u001b[K    100% |████████████████████████████████| 142.8MB 4.6kB/s eta 0:00:01 1% |▋                               | 2.6MB 42.5MB/s eta 0:00:04    9% |███                             | 13.6MB 26.6MB/s eta 0:00:05    11% |███▊                            | 16.8MB 41.6MB/s eta 0:00:04    31% |██████████                      | 44.9MB 27.5MB/s eta 0:00:04    51% |████████████████▌               | 73.4MB 47.5MB/s eta 0:00:02    63% |████████████████████▍           | 90.8MB 45.1MB/s eta 0:00:02    68% |██████████████████████          | 98.1MB 48.6MB/s eta 0:00:01    85% |███████████████████████████▍    | 122.5MB 49.9MB/s eta 0:00:01\n",
      "\u001b[?25hCollecting numpy (from xgboost)\n",
      "  Downloading https://files.pythonhosted.org/packages/75/92/57179ed45307ec6179e344231c47da7f3f3da9e2eee5c8ab506bd279ce4e/numpy-1.17.1-cp36-cp36m-manylinux1_x86_64.whl (20.4MB)\n",
      "\u001b[K    100% |████████████████████████████████| 20.4MB 34kB/s  eta 0:00:01    66% |█████████████████████▍          | 13.6MB 19.7MB/s eta 0:00:01\n",
      "\u001b[?25hCollecting scipy (from xgboost)\n",
      "  Using cached https://files.pythonhosted.org/packages/29/50/a552a5aff252ae915f522e44642bb49a7b7b31677f9580cfd11bcc869976/scipy-1.3.1-cp36-cp36m-manylinux1_x86_64.whl\n",
      "Installing collected packages: numpy, scipy, xgboost\n",
      "Successfully installed numpy-1.17.1 scipy-1.3.1 xgboost-0.90\n"
     ]
    }
   ],
   "source": [
    "!pip3 install xgboost"
   ]
  },
  {
   "cell_type": "code",
   "execution_count": 24,
   "metadata": {},
   "outputs": [
    {
     "name": "stdout",
     "output_type": "stream",
     "text": [
      "CPU times: user 5min 50s, sys: 3.91 s, total: 5min 54s\n",
      "Wall time: 5min 54s\n"
     ]
    }
   ],
   "source": [
    "%%time\n",
    "from xgboost import XGBClassifier\n",
    "import xgboost as xgb\n",
    "from sklearn.metrics import mean_squared_error\n",
    "xg_reg = xgb.XGBClassifier(n_estimators = 50)\n",
    "xg_reg.fit(train[features],train['target'])\n",
    "\n",
    "y_pred = xg_reg.predict(test[features])"
   ]
  },
  {
   "cell_type": "code",
   "execution_count": 25,
   "metadata": {},
   "outputs": [
    {
     "name": "stdout",
     "output_type": "stream",
     "text": [
      "              precision    recall  f1-score   support\n",
      "\n",
      "           1       0.78      0.49      0.60  12012702\n",
      "           2       0.56      0.62      0.59   6661201\n",
      "           3       0.36      0.61      0.46   3587501\n",
      "           4       0.66      0.76      0.70   7949199\n",
      "\n",
      "    accuracy                           0.60  30210603\n",
      "   macro avg       0.59      0.62      0.59  30210603\n",
      "weighted avg       0.65      0.60      0.61  30210603\n",
      "\n"
     ]
    }
   ],
   "source": [
    "print(classification_report(test['target'], y_pred))"
   ]
  },
  {
   "cell_type": "code",
   "execution_count": 26,
   "metadata": {},
   "outputs": [
    {
     "name": "stderr",
     "output_type": "stream",
     "text": [
      "/home/sf/.local/lib/python3.6/site-packages/sklearn/linear_model/logistic.py:432: FutureWarning: Default solver will be changed to 'lbfgs' in 0.22. Specify a solver to silence this warning.\n",
      "  FutureWarning)\n",
      "/home/sf/.local/lib/python3.6/site-packages/sklearn/linear_model/logistic.py:469: FutureWarning: Default multi_class will be changed to 'auto' in 0.22. Specify the multi_class option to silence this warning.\n",
      "  \"this warning.\", FutureWarning)\n"
     ]
    }
   ],
   "source": [
    "from sklearn.linear_model import LogisticRegression\n",
    "lg = LogisticRegression()\n",
    "\n",
    "lg.fit(train[features],train['target'])\n",
    "\n",
    "y_pred = lg.predict(test[features])"
   ]
  },
  {
   "cell_type": "code",
   "execution_count": 30,
   "metadata": {},
   "outputs": [
    {
     "data": {
      "text/plain": [
       "array([1, 2, 3, 4])"
      ]
     },
     "execution_count": 30,
     "metadata": {},
     "output_type": "execute_result"
    }
   ],
   "source": [
    "np.unique(y_pred)"
   ]
  },
  {
   "cell_type": "code",
   "execution_count": 32,
   "metadata": {},
   "outputs": [
    {
     "name": "stdout",
     "output_type": "stream",
     "text": [
      "              precision    recall  f1-score   support\n",
      "\n",
      "           1       0.58      0.21      0.30  12012702\n",
      "           2       0.34      0.43      0.38   6661201\n",
      "           3       0.18      0.39      0.25   3587501\n",
      "           4       0.43      0.54      0.48   7949199\n",
      "\n",
      "    accuracy                           0.37  30210603\n",
      "   macro avg       0.38      0.39      0.35  30210603\n",
      "weighted avg       0.44      0.37      0.36  30210603\n",
      "\n"
     ]
    }
   ],
   "source": [
    "print(classification_report(test['target'], y_pred))"
   ]
  },
  {
   "cell_type": "code",
   "execution_count": 33,
   "metadata": {},
   "outputs": [],
   "source": [
    "from sklearn.ensemble import RandomForestClassifier\n",
    "\n",
    "#Create a Gaussian Classifier\n",
    "clf=RandomForestClassifier(n_estimators=50)\n",
    "\n",
    "#Train the model using the training sets y_pred=clf.predict(X_test)\n",
    "clf.fit(train[features],train['target'])\n",
    "\n",
    "y_pred=clf.predict(test[features])"
   ]
  },
  {
   "cell_type": "code",
   "execution_count": 34,
   "metadata": {},
   "outputs": [
    {
     "name": "stdout",
     "output_type": "stream",
     "text": [
      "              precision    recall  f1-score   support\n",
      "\n",
      "           1       0.86      0.57      0.68  12012702\n",
      "           2       0.66      0.75      0.70   6661201\n",
      "           3       0.57      0.82      0.67   3587501\n",
      "           4       0.64      0.76      0.69   7949199\n",
      "\n",
      "    accuracy                           0.69  30210603\n",
      "   macro avg       0.68      0.72      0.69  30210603\n",
      "weighted avg       0.72      0.69      0.69  30210603\n",
      "\n"
     ]
    }
   ],
   "source": [
    "print(classification_report(test['target'], y_pred))"
   ]
  },
  {
   "cell_type": "code",
   "execution_count": null,
   "metadata": {},
   "outputs": [],
   "source": []
  },
  {
   "cell_type": "code",
   "execution_count": 35,
   "metadata": {},
   "outputs": [],
   "source": [
    "from sklearn.naive_bayes import GaussianNB\n",
    "\n",
    "#Create a Gaussian Classifier\n",
    "model = GaussianNB()\n",
    "\n",
    "# Train the model using the training sets\n",
    "model.fit(train[features],train['target'])\n",
    "\n",
    "#Predict Output\n",
    "y_pred= model.predict(test[features])"
   ]
  },
  {
   "cell_type": "code",
   "execution_count": 36,
   "metadata": {},
   "outputs": [
    {
     "name": "stdout",
     "output_type": "stream",
     "text": [
      "              precision    recall  f1-score   support\n",
      "\n",
      "           1       0.58      0.25      0.35  12012702\n",
      "           2       0.37      0.37      0.37   6661201\n",
      "           3       0.17      0.51      0.26   3587501\n",
      "           4       0.43      0.43      0.43   7949199\n",
      "\n",
      "    accuracy                           0.36  30210603\n",
      "   macro avg       0.39      0.39      0.35  30210603\n",
      "weighted avg       0.45      0.36      0.37  30210603\n",
      "\n"
     ]
    }
   ],
   "source": [
    "print(classification_report(test['target'], y_pred))"
   ]
  },
  {
   "cell_type": "code",
   "execution_count": null,
   "metadata": {},
   "outputs": [],
   "source": []
  },
  {
   "cell_type": "code",
   "execution_count": 37,
   "metadata": {},
   "outputs": [
    {
     "data": {
      "text/plain": [
       "array([1, 1, 1, ..., 4, 4, 4])"
      ]
     },
     "execution_count": 37,
     "metadata": {},
     "output_type": "execute_result"
    }
   ],
   "source": [
    "from sklearn.ensemble import GradientBoostingClassifier\n",
    "clf = GradientBoostingClassifier(n_estimators=50)\n",
    "# n_estimators = 100 (default)\n",
    "# loss function = deviance(default) used in Logistic Regression\n",
    "clf.fit(train[features],train['target'])\n"
   ]
  },
  {
   "cell_type": "code",
   "execution_count": 39,
   "metadata": {},
   "outputs": [],
   "source": [
    "y_pred=clf.predict(test[features])"
   ]
  },
  {
   "cell_type": "code",
   "execution_count": 40,
   "metadata": {},
   "outputs": [
    {
     "name": "stdout",
     "output_type": "stream",
     "text": [
      "              precision    recall  f1-score   support\n",
      "\n",
      "           1       0.77      0.52      0.62  12012702\n",
      "           2       0.66      0.65      0.66   6661201\n",
      "           3       0.38      0.70      0.50   3587501\n",
      "           4       0.63      0.71      0.67   7949199\n",
      "\n",
      "    accuracy                           0.62  30210603\n",
      "   macro avg       0.61      0.64      0.61  30210603\n",
      "weighted avg       0.66      0.62      0.62  30210603\n",
      "\n"
     ]
    }
   ],
   "source": [
    "print(classification_report(test['target'], y_pred))"
   ]
  }
 ],
 "metadata": {
  "kernelspec": {
   "display_name": "Python 3",
   "language": "python",
   "name": "python3"
  },
  "language_info": {
   "codemirror_mode": {
    "name": "ipython",
    "version": 3
   },
   "file_extension": ".py",
   "mimetype": "text/x-python",
   "name": "python",
   "nbconvert_exporter": "python",
   "pygments_lexer": "ipython3",
   "version": "3.5.2"
  }
 },
 "nbformat": 4,
 "nbformat_minor": 2
}
