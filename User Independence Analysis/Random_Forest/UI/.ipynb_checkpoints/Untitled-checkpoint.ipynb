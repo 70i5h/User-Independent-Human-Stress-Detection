{
 "cells": [
  {
   "cell_type": "code",
   "execution_count": null,
   "metadata": {},
   "outputs": [],
   "source": [
    "import pandas as pd\n",
    "import os "
   ]
  },
  {
   "cell_type": "code",
   "execution_count": 2,
   "metadata": {},
   "outputs": [
    {
     "name": "stdout",
     "output_type": "stream",
     "text": [
      "['2_class_combination_UI.csv', '4_class_combination_UI_et.csv', '3_class_combination_UI.csv', '3_class_combination_UI_et.csv', '2_class_combination_UI_et.csv', '4_class_combination_UI.csv']\n"
     ]
    }
   ],
   "source": [
    "os.chdir(\"100\")\n",
    "files = os.listdir()\n",
    "print (files)"
   ]
  },
  {
   "cell_type": "code",
   "execution_count": 3,
   "metadata": {},
   "outputs": [],
   "source": [
    "acc_dict = {\n",
    "    'bi' : {\n",
    "        'et':{},\n",
    "        'rf':{},        \n",
    "    },\n",
    "    'tri' : {\n",
    "        'et':{},\n",
    "        'rf':{},        \n",
    "    },\n",
    "    'multi' : {\n",
    "        'et':{},\n",
    "        'rf':{},        \n",
    "    }\n",
    "}"
   ]
  },
  {
   "cell_type": "code",
   "execution_count": null,
   "metadata": {},
   "outputs": [],
   "source": [
    "def populate(filename,key,algo):\n",
    "        df = pd.read_csv(filename)\n",
    "        all_subjects = set(list(df['subjects_in_test']))\n",
    "        \n",
    "        for sub in all_subjects:\n",
    "            all_sub = df[df['subjects_in_test'] == sub]\n",
    "#             print(all_sub.shape)\n",
    "#             break\n",
    "            mean = all_sub['acc'].mean()\n",
    "            std = all_sub['acc'].std()\n",
    "        \n",
    "            if mean >= .99:\n",
    "                print(sub,mean,key,algo)\n",
    "            else if mean <= .80:\n",
    "                print (sub,mean,key,algo)\n",
    "            \n",
    "            val = \"{} {} {}\".format(round(mean,3),u\"\\u00B1\",round(std,3))\n",
    "            \n",
    "            acc_dict[key][algo][sub.replace('[','').replace(']','')] = val\n",
    "            \n",
    "#             print (\"\\n\")\n",
    "#             break"
   ]
  },
  {
   "cell_type": "code",
   "execution_count": null,
   "metadata": {},
   "outputs": [],
   "source": [
    "for filename in files:\n",
    "    if '2' in filename:\n",
    "        if 'et' in filename: \n",
    "            populate(filename,'bi','et')\n",
    "        else:\n",
    "            populate(filename,'bi','rf')\n",
    "    if '3' in filename:\n",
    "        if 'et' in filename: \n",
    "            populate(filename,'tri','et')\n",
    "        else:\n",
    "            populate(filename,'tri','rf')\n",
    "    if '4' in filename:\n",
    "        if 'et' in filename: \n",
    "            populate(filename,'multi','et')\n",
    "        else:\n",
    "            populate(filename,'multi','rf')"
   ]
  },
  {
   "cell_type": "code",
   "execution_count": 6,
   "metadata": {},
   "outputs": [
    {
     "data": {
      "text/plain": [
       "{'bi': {'et': {'14': '0.875 ± 0.096',\n",
       "   '10': '0.954 ± 0.055',\n",
       "   '6': '0.969 ± 0.025',\n",
       "   '9': '0.984 ± 0.016',\n",
       "   '13': '0.949 ± 0.038',\n",
       "   '5': '0.933 ± 0.048',\n",
       "   '15': '0.99 ± 0.016',\n",
       "   '7': '0.942 ± 0.03',\n",
       "   '8': '0.908 ± 0.045',\n",
       "   '3': '0.901 ± 0.139',\n",
       "   '16': '0.956 ± 0.068',\n",
       "   '17': '0.812 ± 0.26',\n",
       "   '4': '0.966 ± 0.021',\n",
       "   '11': '0.964 ± 0.091',\n",
       "   '2': '0.915 ± 0.046'},\n",
       "  'rf': {'14': '0.857 ± 0.115',\n",
       "   '10': '0.954 ± 0.053',\n",
       "   '6': '0.978 ± 0.018',\n",
       "   '9': '0.997 ± 0.008',\n",
       "   '13': '0.952 ± 0.036',\n",
       "   '5': '0.958 ± 0.035',\n",
       "   '15': '0.983 ± 0.021',\n",
       "   '7': '0.964 ± 0.02',\n",
       "   '8': '0.904 ± 0.059',\n",
       "   '3': '0.914 ± 0.136',\n",
       "   '16': '0.962 ± 0.051',\n",
       "   '17': '0.832 ± 0.242',\n",
       "   '4': '0.977 ± 0.017',\n",
       "   '11': '0.919 ± 0.132',\n",
       "   '2': '0.932 ± 0.037'}},\n",
       " 'tri': {'et': {'14': '0.885 ± 0.097',\n",
       "   '10': '0.975 ± 0.055',\n",
       "   '6': '0.977 ± 0.019',\n",
       "   '9': '0.993 ± 0.012',\n",
       "   '13': '0.926 ± 0.048',\n",
       "   '5': '0.938 ± 0.04',\n",
       "   '15': '0.992 ± 0.014',\n",
       "   '7': '0.94 ± 0.029',\n",
       "   '8': '0.988 ± 0.037',\n",
       "   '3': '0.961 ± 0.101',\n",
       "   '16': '0.951 ± 0.055',\n",
       "   '17': '0.788 ± 0.274',\n",
       "   '4': '0.977 ± 0.02',\n",
       "   '11': '0.961 ± 0.1',\n",
       "   '2': '0.927 ± 0.048'},\n",
       "  'rf': {'14': '0.878 ± 0.108',\n",
       "   '10': '0.969 ± 0.055',\n",
       "   '6': '0.98 ± 0.015',\n",
       "   '9': '0.999 ± 0.004',\n",
       "   '13': '0.949 ± 0.046',\n",
       "   '5': '0.968 ± 0.028',\n",
       "   '15': '0.991 ± 0.018',\n",
       "   '7': '0.959 ± 0.021',\n",
       "   '8': '0.986 ± 0.041',\n",
       "   '3': '0.917 ± 0.135',\n",
       "   '16': '0.958 ± 0.056',\n",
       "   '17': '0.782 ± 0.279',\n",
       "   '4': '0.983 ± 0.015',\n",
       "   '11': '0.945 ± 0.134',\n",
       "   '2': '0.935 ± 0.054'}},\n",
       " 'multi': {'et': {'14': '0.917 ± 0.118',\n",
       "   '10': '0.913 ± 0.058',\n",
       "   '6': '0.981 ± 0.017',\n",
       "   '9': '0.999 ± 0.005',\n",
       "   '13': '0.926 ± 0.052',\n",
       "   '5': '0.956 ± 0.046',\n",
       "   '15': '0.984 ± 0.018',\n",
       "   '7': '0.963 ± 0.041',\n",
       "   '8': '0.971 ± 0.048',\n",
       "   '3': '0.834 ± 0.149',\n",
       "   '16': '0.912 ± 0.075',\n",
       "   '17': '0.87 ± 0.248',\n",
       "   '4': '0.983 ± 0.02',\n",
       "   '11': '0.814 ± 0.183',\n",
       "   '2': '0.901 ± 0.067'},\n",
       "  'rf': {'14': '0.973 ± 0.069',\n",
       "   '10': '0.948 ± 0.061',\n",
       "   '6': '0.985 ± 0.016',\n",
       "   '9': '0.998 ± 0.006',\n",
       "   '13': '0.955 ± 0.039',\n",
       "   '5': '0.965 ± 0.036',\n",
       "   '15': '0.983 ± 0.022',\n",
       "   '7': '0.967 ± 0.029',\n",
       "   '8': '0.953 ± 0.068',\n",
       "   '3': '0.913 ± 0.138',\n",
       "   '16': '0.939 ± 0.073',\n",
       "   '17': '0.745 ± 0.304',\n",
       "   '4': '0.988 ± 0.017',\n",
       "   '11': '0.922 ± 0.157',\n",
       "   '2': '0.935 ± 0.051'}}}"
      ]
     },
     "execution_count": 6,
     "metadata": {},
     "output_type": "execute_result"
    }
   ],
   "source": [
    "acc_dict"
   ]
  },
  {
   "cell_type": "code",
   "execution_count": null,
   "metadata": {},
   "outputs": [],
   "source": []
  }
 ],
 "metadata": {
  "kernelspec": {
   "display_name": "Python 3",
   "language": "python",
   "name": "python3"
  },
  "language_info": {
   "codemirror_mode": {
    "name": "ipython",
    "version": 3
   },
   "file_extension": ".py",
   "mimetype": "text/x-python",
   "name": "python",
   "nbconvert_exporter": "python",
   "pygments_lexer": "ipython3",
   "version": "3.6.8"
  }
 },
 "nbformat": 4,
 "nbformat_minor": 2
}
