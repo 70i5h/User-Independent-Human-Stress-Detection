{
 "cells": [
  {
   "cell_type": "code",
   "execution_count": 1,
   "metadata": {
    "ExecuteTime": {
     "end_time": "2018-12-27T10:26:16.212784Z",
     "start_time": "2018-12-27T10:26:15.962557Z"
    }
   },
   "outputs": [
    {
     "name": "stderr",
     "output_type": "stream",
     "text": [
      "Using TensorFlow backend.\n",
      "/home/sf/.local/lib/python3.6/site-packages/tensorflow/python/framework/dtypes.py:526: FutureWarning: Passing (type, 1) or '1type' as a synonym of type is deprecated; in a future version of numpy, it will be understood as (type, (1,)) / '(1,)type'.\n",
      "  _np_qint8 = np.dtype([(\"qint8\", np.int8, 1)])\n",
      "/home/sf/.local/lib/python3.6/site-packages/tensorflow/python/framework/dtypes.py:527: FutureWarning: Passing (type, 1) or '1type' as a synonym of type is deprecated; in a future version of numpy, it will be understood as (type, (1,)) / '(1,)type'.\n",
      "  _np_quint8 = np.dtype([(\"quint8\", np.uint8, 1)])\n",
      "/home/sf/.local/lib/python3.6/site-packages/tensorflow/python/framework/dtypes.py:528: FutureWarning: Passing (type, 1) or '1type' as a synonym of type is deprecated; in a future version of numpy, it will be understood as (type, (1,)) / '(1,)type'.\n",
      "  _np_qint16 = np.dtype([(\"qint16\", np.int16, 1)])\n",
      "/home/sf/.local/lib/python3.6/site-packages/tensorflow/python/framework/dtypes.py:529: FutureWarning: Passing (type, 1) or '1type' as a synonym of type is deprecated; in a future version of numpy, it will be understood as (type, (1,)) / '(1,)type'.\n",
      "  _np_quint16 = np.dtype([(\"quint16\", np.uint16, 1)])\n",
      "/home/sf/.local/lib/python3.6/site-packages/tensorflow/python/framework/dtypes.py:530: FutureWarning: Passing (type, 1) or '1type' as a synonym of type is deprecated; in a future version of numpy, it will be understood as (type, (1,)) / '(1,)type'.\n",
      "  _np_qint32 = np.dtype([(\"qint32\", np.int32, 1)])\n",
      "/home/sf/.local/lib/python3.6/site-packages/tensorflow/python/framework/dtypes.py:535: FutureWarning: Passing (type, 1) or '1type' as a synonym of type is deprecated; in a future version of numpy, it will be understood as (type, (1,)) / '(1,)type'.\n",
      "  np_resource = np.dtype([(\"resource\", np.ubyte, 1)])\n"
     ]
    }
   ],
   "source": [
    "from keras.layers import GRU,LSTM, Dense, Input\n",
    "from keras.models import Model\n",
    "import keras.optimizers as O\n",
    "import keras.losses as L\n",
    "import keras.activations as A\n",
    "from sklearn.metrics import accuracy_score\n",
    "import numpy as np\n",
    "from keras.utils import np_utils\n",
    "from numpy.random import seed\n",
    "import os\n",
    "import pandas as pd\n",
    "\n",
    "#seed(1)"
   ]
  },
  {
   "cell_type": "code",
   "execution_count": 52,
   "metadata": {
    "ExecuteTime": {
     "end_time": "2018-12-27T10:26:16.589293Z",
     "start_time": "2018-12-27T10:26:16.580639Z"
    }
   },
   "outputs": [],
   "source": [
    "def build_model_lstm(num_timesteps = 90, num_input = 17, num_hidden = 128, num_classes = 4):\n",
    "    '''\n",
    "        Function that builds and returns a basline LSTM model.\n",
    "        Architecture : \n",
    "        Layer 1 : Input Layer.\n",
    "        Layer 2 : LSTM Layer.\n",
    "        Layer 3 : Dense layer with num_classes number of nodes.\n",
    "        \n",
    "        I/P:\n",
    "            num_timesteps : no. of timesteps that are present in the dataset.\n",
    "            num_input : no. of input signals for the Input layer.\n",
    "            num_hidden : no. of hidden units for the LSTM layer.\n",
    "            num_classes : no. of output classes, for the dense layer.\n",
    "            \n",
    "        Returns : \n",
    "            Constructed model.\n",
    "    '''\n",
    "    ip = Input(shape = (num_timesteps, num_input))\n",
    "    x_ip = LSTM(num_hidden)(ip)\n",
    "    x_op = Dense(num_classes, activation='softmax')(x_ip)\n",
    "    \n",
    "    model = Model(inputs = [ip], outputs = [x_op])\n",
    "    \n",
    "    model.summary()\n",
    "    \n",
    "    model.compile(optimizer = O.Adam(), loss = L.categorical_crossentropy, metrics = ['acc'])\n",
    "    \n",
    "    return model"
   ]
  },
  {
   "cell_type": "code",
   "execution_count": 53,
   "metadata": {},
   "outputs": [],
   "source": [
    "def build_model_gru(num_timesteps = 90, num_input = 17, num_hidden = 128, num_classes = 4):\n",
    "    '''\n",
    "        Function that builds and returns a basline LSTM model.\n",
    "        Architecture : \n",
    "        Layer 1 : Input Layer.\n",
    "        Layer 2 : GRU Layer.\n",
    "        Layer 3 : Dense layer with num_classes number of nodes.\n",
    "        \n",
    "        I/P:\n",
    "            num_timesteps : no. of timesteps that are present in the dataset.\n",
    "            num_input : no. of input signals for the Input layer.\n",
    "            num_hidden : no. of hidden units for the LSTM layer.\n",
    "            num_classes : no. of output classes, for the dense layer.\n",
    "            \n",
    "        Returns : \n",
    "            Constructed model.\n",
    "    '''\n",
    "    ip = Input(shape = (num_timesteps, num_input))\n",
    "    x_ip = GRU(num_hidden)(ip)\n",
    "    x_op = Dense(num_classes, activation='softmax')(x_ip)\n",
    "    \n",
    "    model1 = Model(inputs = [ip], outputs = [x_op])\n",
    "    \n",
    "    model1.summary()\n",
    "    \n",
    "    model1.compile(optimizer = O.Adam(), loss = L.categorical_crossentropy, metrics = ['acc'])\n",
    "    \n",
    "    return model1"
   ]
  },
  {
   "cell_type": "code",
   "execution_count": 54,
   "metadata": {
    "ExecuteTime": {
     "end_time": "2018-12-27T09:26:09.654778Z",
     "start_time": "2018-12-27T09:19:47.750590Z"
    }
   },
   "outputs": [],
   "source": [
    "def load_data(path = '/home/sf/EdgeML_code/data/RAW/'):\n",
    "    '''\n",
    "        Function that takes in the path of a dataset and reads and returns the train, validation and test\n",
    "        splits.\n",
    "    '''\n",
    "    x_train, y_train = np.load(path + 'x_train.npy'), np.load(path + 'y_train.npy')\n",
    "    x_test, y_test = np.load(path + 'x_test.npy'), np.load(path + 'y_test.npy')\n",
    "    x_val, y_val = np.load(path + 'x_val.npy'), np.load(path + 'y_val.npy')\n",
    "    \n",
    "    return x_train, y_train, x_test, y_test, x_val, y_val\n",
    "\n",
    "#path = \"/home/iot/Documents/dataset_fog_release/dataset/RAW/\"\n",
    "x_train, y_train, x_test, y_test, x_val, y_val = load_data()\n"
   ]
  },
  {
   "cell_type": "code",
   "execution_count": 55,
   "metadata": {},
   "outputs": [
    {
     "data": {
      "text/plain": [
       "'/home/sf/fresh_start'"
      ]
     },
     "execution_count": 55,
     "metadata": {},
     "output_type": "execute_result"
    }
   ],
   "source": [
    "pwd"
   ]
  },
  {
   "cell_type": "code",
   "execution_count": 56,
   "metadata": {
    "ExecuteTime": {
     "end_time": "2018-12-27T09:26:09.654778Z",
     "start_time": "2018-12-27T09:19:47.750590Z"
    }
   },
   "outputs": [
    {
     "name": "stdout",
     "output_type": "stream",
     "text": [
      "_________________________________________________________________\n",
      "Layer (type)                 Output Shape              Param #   \n",
      "=================================================================\n",
      "input_11 (InputLayer)        (None, 60, 17)            0         \n",
      "_________________________________________________________________\n",
      "lstm_6 (LSTM)                (None, 128)               74752     \n",
      "_________________________________________________________________\n",
      "dense_11 (Dense)             (None, 4)                 516       \n",
      "=================================================================\n",
      "Total params: 75,268\n",
      "Trainable params: 75,268\n",
      "Non-trainable params: 0\n",
      "_________________________________________________________________\n",
      "Train on 558 samples, validate on 551 samples\n",
      "Epoch 1/10\n",
      "558/558 [==============================] - 4s 7ms/step - loss: 0.9800 - acc: 0.6254 - val_loss: 1.0698 - val_acc: 0.5699\n",
      "Epoch 2/10\n",
      "558/558 [==============================] - 1s 2ms/step - loss: 0.6002 - acc: 0.7240 - val_loss: 1.2779 - val_acc: 0.5299\n",
      "Epoch 3/10\n",
      "558/558 [==============================] - 1s 2ms/step - loss: 0.4281 - acc: 0.8387 - val_loss: 1.2639 - val_acc: 0.5917\n",
      "Epoch 4/10\n",
      "558/558 [==============================] - 1s 2ms/step - loss: 0.3121 - acc: 0.8943 - val_loss: 1.4526 - val_acc: 0.5789\n",
      "Epoch 5/10\n",
      "558/558 [==============================] - 1s 2ms/step - loss: 0.2874 - acc: 0.9068 - val_loss: 1.4041 - val_acc: 0.5336\n",
      "Epoch 6/10\n",
      "558/558 [==============================] - 1s 2ms/step - loss: 0.2946 - acc: 0.9068 - val_loss: 1.1031 - val_acc: 0.6352\n",
      "Epoch 7/10\n",
      "558/558 [==============================] - 1s 2ms/step - loss: 0.2306 - acc: 0.9265 - val_loss: 1.2361 - val_acc: 0.5880\n",
      "Epoch 8/10\n",
      "558/558 [==============================] - 1s 2ms/step - loss: 0.1670 - acc: 0.9480 - val_loss: 1.2703 - val_acc: 0.6062\n",
      "Epoch 9/10\n",
      "558/558 [==============================] - 1s 2ms/step - loss: 0.2204 - acc: 0.9355 - val_loss: 1.3901 - val_acc: 0.5644\n",
      "Epoch 10/10\n",
      "558/558 [==============================] - 1s 2ms/step - loss: 0.1113 - acc: 0.9677 - val_loss: 1.5577 - val_acc: 0.5953\n"
     ]
    },
    {
     "data": {
      "text/plain": [
       "<keras.callbacks.History at 0x7fe04d0eafd0>"
      ]
     },
     "execution_count": 56,
     "metadata": {},
     "output_type": "execute_result"
    }
   ],
   "source": [
    "#LSTM\n",
    "model = build_model_lstm(num_timesteps = x_train.shape[1], num_input = x_train.shape[-1], num_hidden = 128, num_classes = y_train.shape[-1])\n",
    "model.fit(x_train,y_train,epochs=10,batch_size=32,validation_data=[x_test,y_test])"
   ]
  },
  {
   "cell_type": "code",
   "execution_count": 57,
   "metadata": {},
   "outputs": [
    {
     "name": "stdout",
     "output_type": "stream",
     "text": [
      "_________________________________________________________________\n",
      "Layer (type)                 Output Shape              Param #   \n",
      "=================================================================\n",
      "input_12 (InputLayer)        (None, 60, 17)            0         \n",
      "_________________________________________________________________\n",
      "gru_6 (GRU)                  (None, 128)               56064     \n",
      "_________________________________________________________________\n",
      "dense_12 (Dense)             (None, 4)                 516       \n",
      "=================================================================\n",
      "Total params: 56,580\n",
      "Trainable params: 56,580\n",
      "Non-trainable params: 0\n",
      "_________________________________________________________________\n",
      "Train on 558 samples, validate on 551 samples\n",
      "Epoch 1/10\n",
      "558/558 [==============================] - 4s 7ms/step - loss: 1.1672 - acc: 0.4803 - val_loss: 1.0611 - val_acc: 0.4918\n",
      "Epoch 2/10\n",
      "558/558 [==============================] - 1s 2ms/step - loss: 0.7830 - acc: 0.7204 - val_loss: 1.0592 - val_acc: 0.5626\n",
      "Epoch 3/10\n",
      "558/558 [==============================] - 1s 2ms/step - loss: 0.6043 - acc: 0.7724 - val_loss: 1.3266 - val_acc: 0.5318\n",
      "Epoch 4/10\n",
      "558/558 [==============================] - 1s 2ms/step - loss: 0.4588 - acc: 0.8459 - val_loss: 1.5173 - val_acc: 0.5354\n",
      "Epoch 5/10\n",
      "558/558 [==============================] - 1s 2ms/step - loss: 0.3958 - acc: 0.8692 - val_loss: 1.5457 - val_acc: 0.5263\n",
      "Epoch 6/10\n",
      "558/558 [==============================] - 1s 2ms/step - loss: 0.2539 - acc: 0.9122 - val_loss: 1.7058 - val_acc: 0.5789\n",
      "Epoch 7/10\n",
      "558/558 [==============================] - 1s 2ms/step - loss: 0.1995 - acc: 0.9301 - val_loss: 1.5913 - val_acc: 0.5808\n",
      "Epoch 8/10\n",
      "558/558 [==============================] - 1s 2ms/step - loss: 0.1191 - acc: 0.9731 - val_loss: 1.8727 - val_acc: 0.5989\n",
      "Epoch 9/10\n",
      "558/558 [==============================] - 1s 2ms/step - loss: 0.1190 - acc: 0.9606 - val_loss: 2.0329 - val_acc: 0.5862\n",
      "Epoch 10/10\n",
      "558/558 [==============================] - 1s 2ms/step - loss: 0.1020 - acc: 0.9642 - val_loss: 1.8147 - val_acc: 0.6025\n"
     ]
    },
    {
     "data": {
      "text/plain": [
       "<keras.callbacks.History at 0x7fe04c40eb70>"
      ]
     },
     "execution_count": 57,
     "metadata": {},
     "output_type": "execute_result"
    }
   ],
   "source": [
    "## GRU \n",
    "model1 = build_model_gru(num_timesteps = x_train.shape[1], num_input = x_train.shape[-1], num_hidden = 128, num_classes = y_train.shape[-1])\n",
    "model1.fit(x_train,y_train,epochs=10,batch_size=32,validation_data=[x_test,y_test])"
   ]
  },
  {
   "cell_type": "code",
   "execution_count": 58,
   "metadata": {
    "ExecuteTime": {
     "end_time": "2018-12-27T09:26:09.654778Z",
     "start_time": "2018-12-27T09:19:47.750590Z"
    }
   },
   "outputs": [
    {
     "name": "stdout",
     "output_type": "stream",
     "text": [
      "CPU times: user 3.16 s, sys: 89.6 ms, total: 3.25 s\n",
      "Wall time: 2.34 s\n"
     ]
    }
   ],
   "source": [
    "%%time\n",
    "preds = model.predict(x_test,batch_size=32)\n",
    "preds1 = model1.predict(x_test,batch_size=32)"
   ]
  },
  {
   "cell_type": "code",
   "execution_count": 59,
   "metadata": {
    "ExecuteTime": {
     "end_time": "2018-12-27T09:26:09.654778Z",
     "start_time": "2018-12-27T09:19:47.750590Z"
    },
    "scrolled": true
   },
   "outputs": [],
   "source": [
    "#Convert the predictions into one-hot outputs.\n",
    "preds = np_utils.to_categorical(np.argmax(preds,axis=1))\n",
    "preds1 = np_utils.to_categorical(np.argmax(preds1,axis=1))\n",
    "# y_test= np_utils.to_categorical(np.argmax(y_test,axis=1))"
   ]
  },
  {
   "cell_type": "code",
   "execution_count": 60,
   "metadata": {
    "ExecuteTime": {
     "end_time": "2018-12-27T09:26:09.668370Z",
     "start_time": "2018-12-27T09:26:09.657949Z"
    }
   },
   "outputs": [
    {
     "name": "stdout",
     "output_type": "stream",
     "text": [
      "Final Classification Accuracy :  0.5952813067150635\n",
      "Final Classification Accuracy :  0.6025408348457351\n"
     ]
    }
   ],
   "source": [
    "print (\"Final Classification Accuracy : \",accuracy_score(y_test,preds))\n",
    "print (\"Final Classification Accuracy : \",accuracy_score(y_test,preds1))"
   ]
  },
  {
   "cell_type": "code",
   "execution_count": 51,
   "metadata": {},
   "outputs": [
    {
     "ename": "FileNotFoundError",
     "evalue": "[Errno 2] No such file or directory: '/home/iot/Documents/'",
     "output_type": "error",
     "traceback": [
      "\u001b[0;31m---------------------------------------------------------------------------\u001b[0m",
      "\u001b[0;31mFileNotFoundError\u001b[0m                         Traceback (most recent call last)",
      "\u001b[0;32m<ipython-input-51-bd84c5baff70>\u001b[0m in \u001b[0;36m<module>\u001b[0;34m\u001b[0m\n\u001b[1;32m      1\u001b[0m \u001b[0;32mfrom\u001b[0m \u001b[0mkeras\u001b[0m\u001b[0;34m.\u001b[0m\u001b[0mmodels\u001b[0m \u001b[0;32mimport\u001b[0m \u001b[0mload_model\u001b[0m\u001b[0;34m\u001b[0m\u001b[0;34m\u001b[0m\u001b[0m\n\u001b[0;32m----> 2\u001b[0;31m \u001b[0mos\u001b[0m\u001b[0;34m.\u001b[0m\u001b[0mchdir\u001b[0m\u001b[0;34m(\u001b[0m\u001b[0;34m\"/home/iot/Documents/\"\u001b[0m\u001b[0;34m)\u001b[0m\u001b[0;34m\u001b[0m\u001b[0;34m\u001b[0m\u001b[0m\n\u001b[0m\u001b[1;32m      3\u001b[0m \u001b[0mmodel\u001b[0m\u001b[0;34m.\u001b[0m\u001b[0msave\u001b[0m\u001b[0;34m(\u001b[0m\u001b[0;34m'baseline_lstm.h5'\u001b[0m\u001b[0;34m)\u001b[0m\u001b[0;34m\u001b[0m\u001b[0;34m\u001b[0m\u001b[0m\n\u001b[1;32m      4\u001b[0m \u001b[0mmodel1\u001b[0m\u001b[0;34m.\u001b[0m\u001b[0msave\u001b[0m\u001b[0;34m(\u001b[0m\u001b[0;34m'baseline_gru.h5'\u001b[0m\u001b[0;34m)\u001b[0m  \u001b[0;31m# creates a HDF5 file 'baseline_lstm.h5' in Documents\u001b[0m\u001b[0;34m\u001b[0m\u001b[0;34m\u001b[0m\u001b[0m\n",
      "\u001b[0;31mFileNotFoundError\u001b[0m: [Errno 2] No such file or directory: '/home/iot/Documents/'"
     ]
    }
   ],
   "source": [
    "from keras.models import load_model\n",
    "os.chdir(\"/home/iot/Documents/\")\n",
    "model.save('baseline_lstm.h5')\n",
    "model1.save('baseline_gru.h5')  # creates a HDF5 file 'baseline_lstm.h5' in Documents"
   ]
  },
  {
   "cell_type": "markdown",
   "metadata": {},
   "source": [
    "# Test RUN"
   ]
  },
  {
   "cell_type": "code",
   "execution_count": 12,
   "metadata": {},
   "outputs": [],
   "source": [
    "# os.chdir(\"/home/iot/Documents/\")\n",
    "# model1 = load_model('baseline_lstm.h5')\n",
    "# model = load_model('baseline_lstm.h5')"
   ]
  },
  {
   "cell_type": "code",
   "execution_count": null,
   "metadata": {},
   "outputs": [],
   "source": [
    "# %%time\n",
    "# preds = model.predict(x_test,batch_size=32)\n",
    "# preds1 = model1.predict(x_test,batch_size=32)"
   ]
  },
  {
   "cell_type": "code",
   "execution_count": null,
   "metadata": {},
   "outputs": [],
   "source": [
    "# preds = np_utils.to_categorical(np.argmax(preds,axis=1))\n",
    "# preds1 = np_utils.to_categorical(np.argmax(preds1,axis=1))\n",
    "# print (\"Final Classification Accuracy : \",accuracy_score(y_test,preds))\n",
    "# print (\"Final Classification Accuracy : \",accuracy_score(y_test,preds1))"
   ]
  }
 ],
 "metadata": {
  "kernelspec": {
   "display_name": "Python 3",
   "language": "python",
   "name": "python3"
  },
  "language_info": {
   "codemirror_mode": {
    "name": "ipython",
    "version": 3
   },
   "file_extension": ".py",
   "mimetype": "text/x-python",
   "name": "python",
   "nbconvert_exporter": "python",
   "pygments_lexer": "ipython3",
   "version": "3.6.8"
  },
  "latex_envs": {
   "LaTeX_envs_menu_present": true,
   "autoclose": false,
   "autocomplete": true,
   "bibliofile": "biblio.bib",
   "cite_by": "apalike",
   "current_citInitial": 1,
   "eqLabelWithNumbers": true,
   "eqNumInitial": 1,
   "hotkeys": {
    "equation": "Ctrl-E",
    "itemize": "Ctrl-I"
   },
   "labels_anchors": false,
   "latex_user_defs": false,
   "report_style_numbering": false,
   "user_envs_cfg": false
  }
 },
 "nbformat": 4,
 "nbformat_minor": 2
}
